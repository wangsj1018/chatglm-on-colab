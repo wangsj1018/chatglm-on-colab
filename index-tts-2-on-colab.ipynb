{
  "nbformat": 4,
  "nbformat_minor": 0,
  "metadata": {
    "colab": {
      "provenance": [],
      "gpuType": "T4",
      "toc_visible": true,
      "include_colab_link": true
    },
    "kernelspec": {
      "name": "python3",
      "display_name": "Python 3"
    },
    "language_info": {
      "name": "python"
    },
    "accelerator": "GPU"
  },
  "cells": [
    {
      "cell_type": "markdown",
      "metadata": {
        "id": "view-in-github",
        "colab_type": "text"
      },
      "source": [
        "<a href=\"https://colab.research.google.com/github/wangsj1018/chatglm-on-colab/blob/main/index-tts-2-on-colab.ipynb\" target=\"_parent\"><img src=\"https://colab.research.google.com/assets/colab-badge.svg\" alt=\"Open In Colab\"/></a>"
      ]
    },
    {
      "cell_type": "code",
      "execution_count": null,
      "metadata": {
        "id": "EeKyLxBP4zKS"
      },
      "outputs": [],
      "source": [
        "# 安装工具链\n",
        "%pip install uv\n",
        "!uv tool install \"huggingface_hub[cli]\"\n"
      ]
    },
    {
      "cell_type": "code",
      "source": [
        "# 获取代码\n",
        "!wget https://github.com/index-tts/index-tts/archive/refs/heads/main.zip\n",
        "!unzip main.zip\n",
        "!mv index-tts-main index-tts\n",
        "!rm main.zip\n"
      ],
      "metadata": {
        "id": "oYEhLy7559Aq"
      },
      "execution_count": null,
      "outputs": []
    },
    {
      "cell_type": "code",
      "source": [
        "# 安装依赖\n",
        "!cd /content/index-tts/ && uv sync --all-extras"
      ],
      "metadata": {
        "id": "PRitu4QwG3OK"
      },
      "execution_count": null,
      "outputs": []
    },
    {
      "cell_type": "code",
      "source": [
        "# 下载模型 checkpoints\n",
        "!hf download IndexTeam/IndexTTS-2 --local-dir=/content/index-tts/checkpoints"
      ],
      "metadata": {
        "id": "HE0-ZMdv8n7J"
      },
      "execution_count": null,
      "outputs": []
    },
    {
      "cell_type": "code",
      "source": [
        "# 为了直接利用 Gradio 的内网穿透功能\n",
        "# 需要对 index—tts/webui.py 进行修改\n",
        "\n",
        "# 如果因为 IndexTTS 官方 GitHub 仓库的更改造成本代码不可用\n",
        "# 还可以手动修改 webui.py ，在 launch 函数调用中加上 `share = True`\n",
        "\n",
        "\n",
        "%cd /content/index-tts\n",
        "\n",
        "launch_line = 'demo.launch(server_name=cmd_args.host, server_port=cmd_args.port)'\n",
        "launch_line_with_share = 'demo.launch(server_name=cmd_args.host, server_port=cmd_args.port, share=True)'\n",
        "\n",
        "with open(\"webui.py\", encoding='utf8') as f:\n",
        "  webui_with_share = []\n",
        "  for line in f.readlines():\n",
        "    if line.strip() == launch_line:\n",
        "      webui_with_share.append(line.replace(launch_line, launch_line_with_share))\n",
        "    else:\n",
        "      webui_with_share.append(line)\n",
        "\n",
        "  with open(\"webui_with_share.py\", 'w', encoding='utf8') as f:\n",
        "    f.writelines(webui_with_share)"
      ],
      "metadata": {
        "colab": {
          "base_uri": "https://localhost:8080/"
        },
        "id": "H2wORndt-OBM",
        "outputId": "ea143a79-bfa3-49b3-ea6e-a18ead90ab11"
      },
      "execution_count": null,
      "outputs": [
        {
          "output_type": "stream",
          "name": "stdout",
          "text": [
            "/content/index-tts\n"
          ]
        }
      ]
    },
    {
      "cell_type": "code",
      "source": [
        "# 启动\n",
        "\n",
        "%cd /content/index-tts/\n",
        "!uv run webui_with_share.py"
      ],
      "metadata": {
        "id": "eU0HaMd0CFO-"
      },
      "execution_count": null,
      "outputs": []
    }
  ]
}